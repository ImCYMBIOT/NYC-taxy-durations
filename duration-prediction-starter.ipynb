{
 "cells": [
  {
   "cell_type": "code",
   "execution_count": 52,
   "id": "b2bd82d7",
   "metadata": {},
   "outputs": [
    {
     "name": "stdout",
     "output_type": "stream",
     "text": [
      "Python 3.11.9\n"
     ]
    }
   ],
   "source": [
    "!python -V"
   ]
  },
  {
   "cell_type": "code",
   "execution_count": 53,
   "id": "41062d8a",
   "metadata": {},
   "outputs": [],
   "source": [
    "import pandas as pd\n",
    "\n",
    "import seaborn as sns\n",
    "import matplotlib.pyplot as plt"
   ]
  },
  {
   "cell_type": "code",
   "execution_count": 54,
   "id": "c984c564",
   "metadata": {},
   "outputs": [],
   "source": [
    "import pickle"
   ]
  },
  {
   "cell_type": "code",
   "execution_count": 55,
   "id": "8b135c2b",
   "metadata": {},
   "outputs": [],
   "source": [
    "from sklearn.feature_extraction import DictVectorizer\n",
    "from sklearn.linear_model import LinearRegression\n",
    "from sklearn.metrics import mean_squared_error"
   ]
  },
  {
   "cell_type": "code",
   "execution_count": 56,
   "id": "f8a3656f-c1f7-4ab7-bf29-636b12998ddc",
   "metadata": {},
   "outputs": [],
   "source": [
    "import mlflow\n",
    "import mlflow.sklearn\n",
    "\n",
    "# Set the tracking URI to your MLFlow server\n",
    "mlflow.set_tracking_uri(\"http://localhost:5000\")\n",
    "\n",
    "# Set the experiment name\n",
    "mlflow.set_experiment(\"nyc-taxi-experiment-01\")\n",
    "\n",
    "artifact_location = \"./mlruns\""
   ]
  },
  {
   "cell_type": "code",
   "execution_count": 57,
   "id": "f9e6479e",
   "metadata": {},
   "outputs": [],
   "source": [
    "def read_dataframe(filename):\n",
    "    df = pd.read_parquet(filename)\n",
    "\n",
    "    df['duration'] = df.lpep_dropoff_datetime - df.lpep_pickup_datetime\n",
    "    df.duration = df.duration.dt.total_seconds() / 60\n",
    "\n",
    "    df = df[(df.duration >= 1) & (df.duration <= 60)]\n",
    "\n",
    "    categorical = ['PULocationID', 'DOLocationID']\n",
    "    df[categorical] = df[categorical].astype(str)\n",
    "    \n",
    "    return df"
   ]
  },
  {
   "cell_type": "code",
   "execution_count": 58,
   "id": "8029eba0",
   "metadata": {},
   "outputs": [],
   "source": [
    "df_train = read_dataframe('https://d37ci6vzurychx.cloudfront.net/trip-data/green_tripdata_2022-01.parquet')\n",
    "df_val = read_dataframe('https://d37ci6vzurychx.cloudfront.net/trip-data/green_tripdata_2022-02.parquet')"
   ]
  },
  {
   "cell_type": "code",
   "execution_count": 59,
   "id": "f6f2f0eb",
   "metadata": {},
   "outputs": [
    {
     "data": {
      "text/plain": [
       "(59603, 66097)"
      ]
     },
     "execution_count": 59,
     "metadata": {},
     "output_type": "execute_result"
    }
   ],
   "source": [
    "len(df_train), len(df_val)"
   ]
  },
  {
   "cell_type": "code",
   "execution_count": 60,
   "id": "376407e4",
   "metadata": {},
   "outputs": [],
   "source": [
    "from sklearn.pipeline import make_pipeline"
   ]
  },
  {
   "cell_type": "code",
   "execution_count": 61,
   "id": "c9e07032-f140-43d2-83b6-5e5013a202a5",
   "metadata": {},
   "outputs": [
    {
     "name": "stdout",
     "output_type": "stream",
     "text": [
      "8.290458507986793\n"
     ]
    },
    {
     "name": "stderr",
     "output_type": "stream",
     "text": [
      "C:\\Users\\agniv\\miniconda3\\envs\\myenv\\Lib\\site-packages\\_distutils_hack\\__init__.py:16: UserWarning: Distutils was imported before Setuptools, but importing Setuptools also replaces the `distutils` module in `sys.modules`. This may lead to undesirable behaviors or errors. To avoid these issues, avoid using distutils directly, ensure that setuptools is installed in the traditional way (e.g. not an editable install), and/or make sure that setuptools is always imported before distutils.\n",
      "  warnings.warn(\n",
      "C:\\Users\\agniv\\miniconda3\\envs\\myenv\\Lib\\site-packages\\_distutils_hack\\__init__.py:31: UserWarning: Setuptools is replacing distutils. Support for replacing an already imported distutils is deprecated. In the future, this condition will fail. Register concerns at https://github.com/pypa/setuptools/issues/new?template=distutils-deprecation.yml\n",
      "  warnings.warn(\n"
     ]
    }
   ],
   "source": [
    "\n",
    "\n",
    "with mlflow.start_run():\n",
    "    categorical = ['PULocationID', 'DOLocationID']\n",
    "    numerical = ['trip_distance']\n",
    "\n",
    "    mlflow.log_params({\n",
    "        'categorical': categorical,\n",
    "        'numerical': numerical,\n",
    "    })\n",
    "    model_params = dict(\n",
    "        fit_intercept = False\n",
    "    )\n",
    "    mlflow.log_params(model_params)\n",
    "    \n",
    "    pipeline = make_pipeline(\n",
    "        DictVectorizer(),\n",
    "        LinearRegression(**model_params)\n",
    "        \n",
    "    )\n",
    "    \n",
    "    target = 'duration'\n",
    "    y_train = df_train[target].values\n",
    "    y_val = df_val[target].values\n",
    "\n",
    "    train_dicts = df_train[categorical + numerical].to_dict(orient='records')\n",
    "    pipeline.fit(train_dicts, y_train) \n",
    "    \n",
    "    val_dicts = df_val[categorical + numerical].to_dict(orient='records')   \n",
    "    y_pred = pipeline.predict(val_dicts)\n",
    "    \n",
    "    rmse = mean_squared_error(y_val, y_pred, squared=False)\n",
    "    print(rmse)\n",
    "    mlflow.log_metric(\"rmse\", rmse)\n",
    "\n",
    "    mlflow.sklearn.log_model(pipeline, 'model')"
   ]
  },
  {
   "cell_type": "code",
   "execution_count": 70,
   "id": "93955969",
   "metadata": {},
   "outputs": [],
   "source": [
    "logged_model = 'file:///C:/Users/agniv/Desktop/MLOps/mlruns/2/8a3db1cad7724bc5a9c1bd08ae3530eb/artifacts/model'\n",
    "\n",
    "# Load model as a PyFuncModel.\n",
    "loaded_model = mlflow.pyfunc.load_model(logged_model)"
   ]
  },
  {
   "cell_type": "code",
   "execution_count": 71,
   "id": "cbe4d015-d1df-4a50-9458-a454b7e534e6",
   "metadata": {},
   "outputs": [
    {
     "data": {
      "text/plain": [
       "{'PULocationID': '43', 'DOLocationID': '238', 'trip_distance': 1.16}"
      ]
     },
     "execution_count": 71,
     "metadata": {},
     "output_type": "execute_result"
    }
   ],
   "source": [
    "val_dicts[0]"
   ]
  },
  {
   "cell_type": "code",
   "execution_count": 72,
   "id": "9d89fff1-5e90-40f0-86c7-6c1528c26d0c",
   "metadata": {},
   "outputs": [
    {
     "data": {
      "text/plain": [
       "array([8.03385226])"
      ]
     },
     "execution_count": 72,
     "metadata": {},
     "output_type": "execute_result"
    }
   ],
   "source": [
    "loaded_model.predict({'PULocationID': '43', 'DOLocationID': '238', 'trip_distance': 1.16})"
   ]
  },
  {
   "cell_type": "code",
   "execution_count": null,
   "id": "faa6a4fe-e586-4fd4-830b-2419b2b3e640",
   "metadata": {},
   "outputs": [],
   "source": []
  }
 ],
 "metadata": {
  "kernelspec": {
   "display_name": "Python 3 (ipykernel)",
   "language": "python",
   "name": "python3"
  },
  "language_info": {
   "codemirror_mode": {
    "name": "ipython",
    "version": 3
   },
   "file_extension": ".py",
   "mimetype": "text/x-python",
   "name": "python",
   "nbconvert_exporter": "python",
   "pygments_lexer": "ipython3",
   "version": "3.11.9"
  },
  "vscode": {
   "interpreter": {
    "hash": "c347c8f9a7ef94e4c9e03b4513be7835ed18f45b99a2a817fb579f408b867b16"
   }
  }
 },
 "nbformat": 4,
 "nbformat_minor": 5
}
